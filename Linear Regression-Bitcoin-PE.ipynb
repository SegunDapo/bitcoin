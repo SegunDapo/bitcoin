{
 "cells": [
  {
   "cell_type": "markdown",
   "id": "b3904dea",
   "metadata": {},
   "source": [
    "## IMPORT DEPENDENCIES"
   ]
  },
  {
   "cell_type": "code",
   "execution_count": 1,
   "id": "98267d84",
   "metadata": {},
   "outputs": [],
   "source": [
    "#Import libraries \n",
    "import pandas as pd\n",
    "import numpy as np\n",
    "\n",
    "\n",
    "#Date Time Package \n",
    "from datetime import datetime\n",
    "from datetime import timedelta\n",
    "\n",
    "\n",
    "#Data Visualisation\n",
    "import plotly.graph_objects as go\n",
    "import matplotlib.pyplot as plt\n",
    "\n",
    "\n",
    "\n",
    "#Linear Regression Models\n",
    "from sklearn.linear_model import LinearRegression\n",
    "from sklearn.model_selection import train_test_split\n",
    "\n",
    "#Ignore warnings\n",
    "import warnings\n",
    "warnings.filterwarnings('ignore')\n",
    "pd.options.display.float_format = '{:.2f}'.format\n",
    "\n",
    "\n",
    "#set figure size\n",
    "plt.rcParams['figure.figsize'] = (10,7)\n",
    "\n",
    "#Yahoo Finance API\n",
    "import yfinance as yf"
   ]
  },
  {
   "cell_type": "markdown",
   "id": "10dfded1",
   "metadata": {},
   "source": [
    "## STEP 0: READ THE DATA "
   ]
  },
  {
   "cell_type": "code",
   "execution_count": 2,
   "id": "7201a4a1",
   "metadata": {
    "scrolled": false
   },
   "outputs": [
    {
     "name": "stdout",
     "output_type": "stream",
     "text": [
      "[*********************100%***********************]  1 of 1 completed\n"
     ]
    }
   ],
   "source": [
    "start_date = '2016-01-01'\n",
    "today = datetime.today().strftime('%Y-%m-%d')\n",
    "df = yf.download('BTC-USD',start_date, today)"
   ]
  },
  {
   "cell_type": "code",
   "execution_count": 3,
   "id": "166fbbab",
   "metadata": {},
   "outputs": [
    {
     "data": {
      "text/html": [
       "<div><div id=1322da8f-2042-42f0-a91a-89a012d7da52 style=\"display:none; background-color:#9D6CFF; color:white; width:200px; height:30px; padding-left:5px; border-radius:4px; flex-direction:row; justify-content:space-around; align-items:center;\" onmouseover=\"this.style.backgroundColor='#BA9BF8'\" onmouseout=\"this.style.backgroundColor='#9D6CFF'\" onclick=\"window.commands?.execute('create-mitosheet-from-dataframe-output');\">See Full Dataframe in Mito</div> <script> if (window.commands.hasCommand('create-mitosheet-from-dataframe-output')) document.getElementById('1322da8f-2042-42f0-a91a-89a012d7da52').style.display = 'flex' </script> <table border=\"1\" class=\"dataframe\">\n",
       "  <thead>\n",
       "    <tr style=\"text-align: right;\">\n",
       "      <th></th>\n",
       "      <th>Open</th>\n",
       "      <th>High</th>\n",
       "      <th>Low</th>\n",
       "      <th>Close</th>\n",
       "      <th>Adj Close</th>\n",
       "      <th>Volume</th>\n",
       "    </tr>\n",
       "    <tr>\n",
       "      <th>Date</th>\n",
       "      <th></th>\n",
       "      <th></th>\n",
       "      <th></th>\n",
       "      <th></th>\n",
       "      <th></th>\n",
       "      <th></th>\n",
       "    </tr>\n",
       "  </thead>\n",
       "  <tbody>\n",
       "    <tr>\n",
       "      <th>2022-01-29</th>\n",
       "      <td>37780.71</td>\n",
       "      <td>38576.26</td>\n",
       "      <td>37406.47</td>\n",
       "      <td>38138.18</td>\n",
       "      <td>38138.18</td>\n",
       "      <td>17194183075</td>\n",
       "    </tr>\n",
       "    <tr>\n",
       "      <th>2022-01-30</th>\n",
       "      <td>38151.92</td>\n",
       "      <td>38266.34</td>\n",
       "      <td>37437.71</td>\n",
       "      <td>37917.60</td>\n",
       "      <td>37917.60</td>\n",
       "      <td>14643548444</td>\n",
       "    </tr>\n",
       "    <tr>\n",
       "      <th>2022-01-31</th>\n",
       "      <td>37920.28</td>\n",
       "      <td>38647.26</td>\n",
       "      <td>36733.57</td>\n",
       "      <td>38483.12</td>\n",
       "      <td>38483.12</td>\n",
       "      <td>20734730465</td>\n",
       "    </tr>\n",
       "    <tr>\n",
       "      <th>2022-02-01</th>\n",
       "      <td>38481.77</td>\n",
       "      <td>39115.13</td>\n",
       "      <td>38113.66</td>\n",
       "      <td>38743.27</td>\n",
       "      <td>38743.27</td>\n",
       "      <td>20288500328</td>\n",
       "    </tr>\n",
       "    <tr>\n",
       "      <th>2022-02-02</th>\n",
       "      <td>38743.71</td>\n",
       "      <td>38834.62</td>\n",
       "      <td>36832.73</td>\n",
       "      <td>36952.98</td>\n",
       "      <td>36952.98</td>\n",
       "      <td>19155189416</td>\n",
       "    </tr>\n",
       "  </tbody>\n",
       "</table></div>"
      ],
      "text/plain": [
       "               Open     High      Low    Close  Adj Close       Volume\n",
       "Date                                                                  \n",
       "2022-01-29 37780.71 38576.26 37406.47 38138.18   38138.18  17194183075\n",
       "2022-01-30 38151.92 38266.34 37437.71 37917.60   37917.60  14643548444\n",
       "2022-01-31 37920.28 38647.26 36733.57 38483.12   38483.12  20734730465\n",
       "2022-02-01 38481.77 39115.13 38113.66 38743.27   38743.27  20288500328\n",
       "2022-02-02 38743.71 38834.62 36832.73 36952.98   36952.98  19155189416"
      ]
     },
     "execution_count": 3,
     "metadata": {},
     "output_type": "execute_result"
    }
   ],
   "source": [
    "df.tail()"
   ]
  },
  {
   "cell_type": "markdown",
   "id": "14534d37",
   "metadata": {},
   "source": [
    "## STEP 1: DATA PREPROCESSING"
   ]
  },
  {
   "cell_type": "code",
   "execution_count": 18,
   "id": "f79d882f",
   "metadata": {},
   "outputs": [
    {
     "data": {
      "text/plain": [
       "Open     0\n",
       "High     0\n",
       "Low      0\n",
       "Close    0\n",
       "dtype: int64"
      ]
     },
     "execution_count": 18,
     "metadata": {},
     "output_type": "execute_result"
    }
   ],
   "source": [
    "# check for null values \n",
    "df.isnull().sum()"
   ]
  },
  {
   "cell_type": "code",
   "execution_count": 5,
   "id": "c355a02f",
   "metadata": {},
   "outputs": [
    {
     "data": {
      "text/plain": [
       "Index(['Open', 'High', 'Low', 'Close', 'Adj Close', 'Volume'], dtype='object')"
      ]
     },
     "execution_count": 5,
     "metadata": {},
     "output_type": "execute_result"
    }
   ],
   "source": [
    "df.columns"
   ]
  },
  {
   "cell_type": "code",
   "execution_count": 6,
   "id": "4d688a5c",
   "metadata": {},
   "outputs": [
    {
     "data": {
      "text/plain": [
       "Index(['Date', 'Open', 'High', 'Low', 'Close', 'Adj Close', 'Volume'], dtype='object')"
      ]
     },
     "execution_count": 6,
     "metadata": {},
     "output_type": "execute_result"
    }
   ],
   "source": [
    "# We’ll reset the index, and we can have our Date as a column.\n",
    "df.reset_index(inplace=True)\n",
    "df.columns "
   ]
  },
  {
   "cell_type": "code",
   "execution_count": 7,
   "id": "842b2874",
   "metadata": {},
   "outputs": [
    {
     "data": {
      "text/plain": [
       "(2226, 7)"
      ]
     },
     "execution_count": 7,
     "metadata": {},
     "output_type": "execute_result"
    }
   ],
   "source": [
    "df.shape"
   ]
  },
  {
   "cell_type": "code",
   "execution_count": 8,
   "id": "9aa7bf26",
   "metadata": {
    "scrolled": true
   },
   "outputs": [
    {
     "data": {
      "text/html": [
       "<div><div id=20bc2fe0-c93f-4307-be5a-a4478b5a323f style=\"display:none; background-color:#9D6CFF; color:white; width:200px; height:30px; padding-left:5px; border-radius:4px; flex-direction:row; justify-content:space-around; align-items:center;\" onmouseover=\"this.style.backgroundColor='#BA9BF8'\" onmouseout=\"this.style.backgroundColor='#9D6CFF'\" onclick=\"window.commands?.execute('create-mitosheet-from-dataframe-output');\">See Full Dataframe in Mito</div> <script> if (window.commands.hasCommand('create-mitosheet-from-dataframe-output')) document.getElementById('20bc2fe0-c93f-4307-be5a-a4478b5a323f').style.display = 'flex' </script> <table border=\"1\" class=\"dataframe\">\n",
       "  <thead>\n",
       "    <tr style=\"text-align: right;\">\n",
       "      <th></th>\n",
       "      <th>Date</th>\n",
       "      <th>Open</th>\n",
       "      <th>High</th>\n",
       "      <th>Low</th>\n",
       "      <th>Close</th>\n",
       "      <th>Adj Close</th>\n",
       "      <th>Volume</th>\n",
       "    </tr>\n",
       "  </thead>\n",
       "  <tbody>\n",
       "    <tr>\n",
       "      <th>0</th>\n",
       "      <td>2015-12-31</td>\n",
       "      <td>425.88</td>\n",
       "      <td>432.92</td>\n",
       "      <td>418.73</td>\n",
       "      <td>430.57</td>\n",
       "      <td>430.57</td>\n",
       "      <td>45996600</td>\n",
       "    </tr>\n",
       "    <tr>\n",
       "      <th>1</th>\n",
       "      <td>2016-01-01</td>\n",
       "      <td>430.72</td>\n",
       "      <td>436.25</td>\n",
       "      <td>427.52</td>\n",
       "      <td>434.33</td>\n",
       "      <td>434.33</td>\n",
       "      <td>36278900</td>\n",
       "    </tr>\n",
       "    <tr>\n",
       "      <th>2</th>\n",
       "      <td>2016-01-02</td>\n",
       "      <td>434.62</td>\n",
       "      <td>436.06</td>\n",
       "      <td>431.87</td>\n",
       "      <td>433.44</td>\n",
       "      <td>433.44</td>\n",
       "      <td>30096600</td>\n",
       "    </tr>\n",
       "    <tr>\n",
       "      <th>3</th>\n",
       "      <td>2016-01-03</td>\n",
       "      <td>433.58</td>\n",
       "      <td>433.74</td>\n",
       "      <td>424.71</td>\n",
       "      <td>430.01</td>\n",
       "      <td>430.01</td>\n",
       "      <td>39633800</td>\n",
       "    </tr>\n",
       "    <tr>\n",
       "      <th>4</th>\n",
       "      <td>2016-01-04</td>\n",
       "      <td>430.06</td>\n",
       "      <td>434.52</td>\n",
       "      <td>429.08</td>\n",
       "      <td>433.09</td>\n",
       "      <td>433.09</td>\n",
       "      <td>38477500</td>\n",
       "    </tr>\n",
       "  </tbody>\n",
       "</table></div>"
      ],
      "text/plain": [
       "        Date   Open   High    Low  Close  Adj Close    Volume\n",
       "0 2015-12-31 425.88 432.92 418.73 430.57     430.57  45996600\n",
       "1 2016-01-01 430.72 436.25 427.52 434.33     434.33  36278900\n",
       "2 2016-01-02 434.62 436.06 431.87 433.44     433.44  30096600\n",
       "3 2016-01-03 433.58 433.74 424.71 430.01     430.01  39633800\n",
       "4 2016-01-04 430.06 434.52 429.08 433.09     433.09  38477500"
      ]
     },
     "execution_count": 8,
     "metadata": {},
     "output_type": "execute_result"
    }
   ],
   "source": [
    "df.head()"
   ]
  },
  {
   "cell_type": "code",
   "execution_count": 9,
   "id": "0a41173f",
   "metadata": {},
   "outputs": [],
   "source": [
    "df.drop(['Date','Adj Close','Volume'],1,inplace=True)"
   ]
  },
  {
   "cell_type": "code",
   "execution_count": 10,
   "id": "f73d7aff",
   "metadata": {
    "scrolled": true
   },
   "outputs": [
    {
     "data": {
      "text/html": [
       "<div><div id=b38348e1-c4bb-4a93-84df-7d9af6392341 style=\"display:none; background-color:#9D6CFF; color:white; width:200px; height:30px; padding-left:5px; border-radius:4px; flex-direction:row; justify-content:space-around; align-items:center;\" onmouseover=\"this.style.backgroundColor='#BA9BF8'\" onmouseout=\"this.style.backgroundColor='#9D6CFF'\" onclick=\"window.commands?.execute('create-mitosheet-from-dataframe-output');\">See Full Dataframe in Mito</div> <script> if (window.commands.hasCommand('create-mitosheet-from-dataframe-output')) document.getElementById('b38348e1-c4bb-4a93-84df-7d9af6392341').style.display = 'flex' </script> <table border=\"1\" class=\"dataframe\">\n",
       "  <thead>\n",
       "    <tr style=\"text-align: right;\">\n",
       "      <th></th>\n",
       "      <th>Open</th>\n",
       "      <th>High</th>\n",
       "      <th>Low</th>\n",
       "      <th>Close</th>\n",
       "    </tr>\n",
       "  </thead>\n",
       "  <tbody>\n",
       "    <tr>\n",
       "      <th>0</th>\n",
       "      <td>425.88</td>\n",
       "      <td>432.92</td>\n",
       "      <td>418.73</td>\n",
       "      <td>430.57</td>\n",
       "    </tr>\n",
       "    <tr>\n",
       "      <th>1</th>\n",
       "      <td>430.72</td>\n",
       "      <td>436.25</td>\n",
       "      <td>427.52</td>\n",
       "      <td>434.33</td>\n",
       "    </tr>\n",
       "    <tr>\n",
       "      <th>2</th>\n",
       "      <td>434.62</td>\n",
       "      <td>436.06</td>\n",
       "      <td>431.87</td>\n",
       "      <td>433.44</td>\n",
       "    </tr>\n",
       "    <tr>\n",
       "      <th>3</th>\n",
       "      <td>433.58</td>\n",
       "      <td>433.74</td>\n",
       "      <td>424.71</td>\n",
       "      <td>430.01</td>\n",
       "    </tr>\n",
       "    <tr>\n",
       "      <th>4</th>\n",
       "      <td>430.06</td>\n",
       "      <td>434.52</td>\n",
       "      <td>429.08</td>\n",
       "      <td>433.09</td>\n",
       "    </tr>\n",
       "  </tbody>\n",
       "</table></div>"
      ],
      "text/plain": [
       "    Open   High    Low  Close\n",
       "0 425.88 432.92 418.73 430.57\n",
       "1 430.72 436.25 427.52 434.33\n",
       "2 434.62 436.06 431.87 433.44\n",
       "3 433.58 433.74 424.71 430.01\n",
       "4 430.06 434.52 429.08 433.09"
      ]
     },
     "execution_count": 10,
     "metadata": {},
     "output_type": "execute_result"
    }
   ],
   "source": [
    "df.head()"
   ]
  },
  {
   "cell_type": "code",
   "execution_count": 11,
   "id": "317e652a",
   "metadata": {
    "scrolled": true
   },
   "outputs": [
    {
     "data": {
      "text/html": [
       "<div><div id=f4567d05-e393-496c-8b81-e6aee9a2d968 style=\"display:none; background-color:#9D6CFF; color:white; width:200px; height:30px; padding-left:5px; border-radius:4px; flex-direction:row; justify-content:space-around; align-items:center;\" onmouseover=\"this.style.backgroundColor='#BA9BF8'\" onmouseout=\"this.style.backgroundColor='#9D6CFF'\" onclick=\"window.commands?.execute('create-mitosheet-from-dataframe-output');\">See Full Dataframe in Mito</div> <script> if (window.commands.hasCommand('create-mitosheet-from-dataframe-output')) document.getElementById('f4567d05-e393-496c-8b81-e6aee9a2d968').style.display = 'flex' </script> <table border=\"1\" class=\"dataframe\">\n",
       "  <thead>\n",
       "    <tr style=\"text-align: right;\">\n",
       "      <th></th>\n",
       "      <th>Open</th>\n",
       "      <th>High</th>\n",
       "      <th>Low</th>\n",
       "      <th>Close</th>\n",
       "    </tr>\n",
       "  </thead>\n",
       "  <tbody>\n",
       "    <tr>\n",
       "      <th>2221</th>\n",
       "      <td>37780.71</td>\n",
       "      <td>38576.26</td>\n",
       "      <td>37406.47</td>\n",
       "      <td>38138.18</td>\n",
       "    </tr>\n",
       "    <tr>\n",
       "      <th>2222</th>\n",
       "      <td>38151.92</td>\n",
       "      <td>38266.34</td>\n",
       "      <td>37437.71</td>\n",
       "      <td>37917.60</td>\n",
       "    </tr>\n",
       "    <tr>\n",
       "      <th>2223</th>\n",
       "      <td>37920.28</td>\n",
       "      <td>38647.26</td>\n",
       "      <td>36733.57</td>\n",
       "      <td>38483.12</td>\n",
       "    </tr>\n",
       "    <tr>\n",
       "      <th>2224</th>\n",
       "      <td>38481.77</td>\n",
       "      <td>39115.13</td>\n",
       "      <td>38113.66</td>\n",
       "      <td>38743.27</td>\n",
       "    </tr>\n",
       "    <tr>\n",
       "      <th>2225</th>\n",
       "      <td>38743.71</td>\n",
       "      <td>38834.62</td>\n",
       "      <td>36832.73</td>\n",
       "      <td>36952.98</td>\n",
       "    </tr>\n",
       "  </tbody>\n",
       "</table></div>"
      ],
      "text/plain": [
       "         Open     High      Low    Close\n",
       "2221 37780.71 38576.26 37406.47 38138.18\n",
       "2222 38151.92 38266.34 37437.71 37917.60\n",
       "2223 37920.28 38647.26 36733.57 38483.12\n",
       "2224 38481.77 39115.13 38113.66 38743.27\n",
       "2225 38743.71 38834.62 36832.73 36952.98"
      ]
     },
     "execution_count": 11,
     "metadata": {},
     "output_type": "execute_result"
    }
   ],
   "source": [
    "df.tail()"
   ]
  },
  {
   "cell_type": "markdown",
   "id": "728e3b8d",
   "metadata": {},
   "source": [
    "## STEP 3: TRAIN TEST SPLIT"
   ]
  },
  {
   "cell_type": "code",
   "execution_count": 13,
   "id": "90f8cd73",
   "metadata": {},
   "outputs": [
    {
     "data": {
      "text/plain": [
       "((1780, 3), (446, 3), (1780,), (446,))"
      ]
     },
     "execution_count": 13,
     "metadata": {},
     "output_type": "execute_result"
    }
   ],
   "source": [
    "train = df.drop(['Close'],1)\n",
    "test = df['Close']\n",
    "\n",
    "X_train, X_test, y_train, y_test = train_test_split(train,test,test_size=0.2,shuffle=False)\n",
    "\n",
    "X_train.shape, X_test.shape, y_train.shape, y_test.shape"
   ]
  },
  {
   "cell_type": "markdown",
   "id": "73239372",
   "metadata": {},
   "source": [
    "## STEP 4: IMPLEMENT LINEAR REGRESSION"
   ]
  },
  {
   "cell_type": "code",
   "execution_count": 14,
   "id": "10c0c7cf",
   "metadata": {},
   "outputs": [
    {
     "data": {
      "text/plain": [
       "LinearRegression()"
      ]
     },
     "execution_count": 14,
     "metadata": {},
     "output_type": "execute_result"
    }
   ],
   "source": [
    "model = LinearRegression()\n",
    "model.fit(X_train,y_train)"
   ]
  },
  {
   "cell_type": "code",
   "execution_count": 15,
   "id": "007f6c4c",
   "metadata": {},
   "outputs": [
    {
     "data": {
      "text/plain": [
       "0.9992126396095018"
      ]
     },
     "execution_count": 15,
     "metadata": {},
     "output_type": "execute_result"
    }
   ],
   "source": [
    "model.score(X_train,y_train)"
   ]
  },
  {
   "cell_type": "code",
   "execution_count": 16,
   "id": "1e37e68d",
   "metadata": {
    "scrolled": true
   },
   "outputs": [
    {
     "data": {
      "text/plain": [
       "0.9960917145912224"
      ]
     },
     "execution_count": 16,
     "metadata": {},
     "output_type": "execute_result"
    }
   ],
   "source": [
    "model.score(X_test,y_test)"
   ]
  },
  {
   "cell_type": "code",
   "execution_count": 17,
   "id": "9ca642ba",
   "metadata": {
    "scrolled": false
   },
   "outputs": [
    {
     "data": {
      "image/png": "[encoded data removed]",
      "text/plain": [
       "<Figure size 720x504 with 1 Axes>"
      ]
     },
     "metadata": {
      "needs_background": "light"
     },
     "output_type": "display_data"
    }
   ],
   "source": [
    "preds = model.predict(X_test)\n",
    "\n",
    "plt.plot(range(len(preds)),preds,label='prediction')\n",
    "plt.plot(range(len(y_test)),np.array(y_test),label='Actual value')\n",
    "plt.legend();"
   ]
  },
  {
   "cell_type": "markdown",
   "id": "d47f7bec",
   "metadata": {},
   "source": [
    "## CONCLUSION"
   ]
  },
  {
   "cell_type": "code",
   "execution_count": null,
   "id": "f8d60e4e",
   "metadata": {},
   "outputs": [],
   "source": []
  },
  {
   "cell_type": "code",
   "execution_count": null,
   "id": "a9503389",
   "metadata": {},
   "outputs": [],
   "source": []
  },
  {
   "cell_type": "code",
   "execution_count": null,
   "id": "db42bf9b",
   "metadata": {},
   "outputs": [],
   "source": []
  }
 ],
 "metadata": {
  "kernelspec": {
   "display_name": "Python 3 (ipykernel)",
   "language": "python",
   "name": "python3"
  },
  "language_info": {
   "codemirror_mode": {
    "name": "ipython",
    "version": 3
   },
   "file_extension": ".py",
   "mimetype": "text/x-python",
   "name": "python",
   "nbconvert_exporter": "python",
   "pygments_lexer": "ipython3",
   "version": "3.8.2"
  }
 },
 "nbformat": 4,
 "nbformat_minor": 5
}
